{
 "cells": [
  {
   "cell_type": "markdown",
   "metadata": {},
   "source": []
  },
  {
   "cell_type": "markdown",
   "metadata": {},
   "source": [
    "Para correr el programa, apreta el botón para correr todas las celdas, por favor se paciente, funciona :) , luego puedes utilizar las funciones de forma casi instantánea. Si deseas utilizar otra función una vez terminado el flujo, corre la celda donde se llama a la función  ```menu()```."
   ]
  },
  {
   "cell_type": "code",
   "execution_count": null,
   "metadata": {
    "scrolled": true
   },
   "outputs": [],
   "source": [
    "print('Por favor espera unos minutos mientras se carga el archivo...')"
   ]
  },
  {
   "cell_type": "code",
   "execution_count": 2,
   "metadata": {},
   "outputs": [],
   "source": [
    "# Importing required libraries\n",
    "import pandas as pd\n",
    "from pandas.io.json import json_normalize\n",
    "from IPython.display import display_html\n",
    "import warnings\n",
    "warnings.filterwarnings(\"ignore\")\n",
    "# Read JSON file containing tweets data and remove tweets not in English\n",
    "\n",
    "raw_tweets = pd.read_json(r'farmers-protest-tweets-2021-03-5.json', lines=True)\n",
    "raw_tweets = raw_tweets[raw_tweets['lang']=='en']"
   ]
  },
  {
   "cell_type": "code",
   "execution_count": 3,
   "metadata": {},
   "outputs": [],
   "source": [
    "# Normalize 'user' field\n",
    "\n",
    "users = json_normalize(raw_tweets['user'])\n",
    "users.drop(['description', 'linkTcourl'], axis=1, inplace=True)\n",
    "users.rename(columns={'id':'userId', 'url':'profileUrl'}, inplace=True)\n",
    "\n",
    "# Transform 'raw_tweets' DataFrame\n",
    "\n",
    "# Add column for 'userId'\n",
    "user_id = []\n",
    "for user in raw_tweets['user']:\n",
    "    uid = user['id']\n",
    "    user_id.append(uid)\n",
    "raw_tweets['userId'] = user_id"
   ]
  },
  {
   "cell_type": "code",
   "execution_count": 4,
   "metadata": {},
   "outputs": [],
   "source": [
    "# Remove less important columns\n",
    "cols = ['id', 'retweetCount', 'userId', 'url', 'date', 'renderedContent']\n",
    "tweets = raw_tweets[cols]\n",
    "tweets.rename(columns={'id':'tweetId', 'url':'tweetUrl'}, inplace=True)\n",
    "\n",
    "# Convert to DataFrame, remove duplicates and keep only English tweets\n",
    "tweets = pd.DataFrame(tweets)\n",
    "tweets.drop_duplicates(subset=['tweetId'], inplace=True)"
   ]
  },
  {
   "cell_type": "code",
   "execution_count": 5,
   "metadata": {},
   "outputs": [],
   "source": [
    "top_tweets = tweets.nlargest(10, 'retweetCount')"
   ]
  },
  {
   "cell_type": "code",
   "execution_count": 6,
   "metadata": {},
   "outputs": [],
   "source": [
    "users_tweets = tweets[['tweetId', 'tweetUrl','renderedContent', 'userId']].merge(users[['userId','displayname']], on='userId')\n",
    "top_users = users_tweets.groupby(['displayname']).size().reset_index(name='tweets').sort_values(by='tweets', ascending=False)"
   ]
  },
  {
   "cell_type": "code",
   "execution_count": 7,
   "metadata": {},
   "outputs": [],
   "source": [
    "tweets['date'] = tweets['date'].dt.strftime('%m-%d-%Y')"
   ]
  },
  {
   "cell_type": "code",
   "execution_count": 8,
   "metadata": {},
   "outputs": [],
   "source": [
    "top_days = tweets.groupby(['date']).size().reset_index(name='tweets').sort_values(by='tweets', ascending=False)"
   ]
  },
  {
   "cell_type": "code",
   "execution_count": 9,
   "metadata": {},
   "outputs": [],
   "source": [
    "def show_table(df):\n",
    "  display_html(df.head(10))"
   ]
  },
  {
   "cell_type": "code",
   "execution_count": 10,
   "metadata": {},
   "outputs": [],
   "source": [
    "def menu():\n",
    "  print('\\nArchivo cargado')\n",
    "  print(\n",
    "    '''\n",
    "    Elige el número de la función a ejecutar:\n",
    "    [ 1 ] : Top 10 tweets\n",
    "    [ 2 ] : Top 10 users\n",
    "    [ 3 ] : Top 10 days\n",
    "    [ 4 ] : Top 10 hashtags\n",
    "    '''\n",
    "  )\n",
    "  input_correct = False\n",
    "  while not input_correct:\n",
    "    user_input = input('Ingresa un número: ')\n",
    "    try:\n",
    "      value = int(user_input)\n",
    "      if value < 1 or value > 4:\n",
    "        print('Error: Ingresa un número entre 1 y 4')\n",
    "      else:\n",
    "        input_correct = True\n",
    "        if value == 1:\n",
    "          print('Top 10 tweets:')\n",
    "          show_table(top_tweets)\n",
    "        elif value == 2:\n",
    "          print('Top 10 users:')\n",
    "          show_table(top_users)\n",
    "        elif value == 3:\n",
    "          print('Top 10 days:')\n",
    "          show_table(top_days)\n",
    "        elif value == 4:\n",
    "          print('funcion 4')\n",
    "    except ValueError:\n",
    "      print('Error: Recuerda ingresar un número')\n",
    "      continue"
   ]
  },
  {
   "cell_type": "code",
   "execution_count": null,
   "metadata": {
    "scrolled": true
   },
   "outputs": [],
   "source": [
    "menu()"
   ]
  }
 ],
 "metadata": {
  "interpreter": {
   "hash": "aee8b7b246df8f9039afb4144a1f6fd8d2ca17a180786b69acc140d282b71a49"
  },
  "kernelspec": {
   "display_name": "Python 3",
   "language": "python",
   "name": "python3"
  },
  "language_info": {
   "codemirror_mode": {
    "name": "ipython",
    "version": 3
   },
   "file_extension": ".py",
   "mimetype": "text/x-python",
   "name": "python",
   "nbconvert_exporter": "python",
   "pygments_lexer": "ipython3",
   "version": "3.7.0"
  }
 },
 "nbformat": 4,
 "nbformat_minor": 2
}
