{
 "cells": [
  {
   "cell_type": "markdown",
   "metadata": {},
   "source": []
  },
  {
   "cell_type": "markdown",
   "metadata": {},
   "source": [
    "Para correr el programa, apreta el botón para correr todas las celdas, por favor se paciente, funciona :) , luego puedes utilizar las funciones de forma casi instantánea."
   ]
  },
  {
   "cell_type": "code",
   "execution_count": null,
   "metadata": {
    "scrolled": true
   },
   "outputs": [],
   "source": [
    "print('Por favor espera unos minutos mientras se carga el archivo...')"
   ]
  },
  {
   "cell_type": "code",
   "execution_count": null,
   "metadata": {},
   "outputs": [],
   "source": [
    "import pandas as pd\n",
    "from pandas.io.json import json_normalize\n",
    "from IPython.display import display_html\n",
    "import warnings\n",
    "warnings.filterwarnings(\"ignore\")\n",
    "\n",
    "raw_tweets = pd.read_json(r'farmers-protest-tweets-2021-03-5.json', lines=True)\n",
    "raw_tweets = raw_tweets[raw_tweets['lang']=='en']"
   ]
  },
  {
   "cell_type": "code",
   "execution_count": null,
   "metadata": {},
   "outputs": [],
   "source": [
    "users = json_normalize(raw_tweets['user'])\n",
    "users.drop(['description', 'linkTcourl'], axis=1, inplace=True)\n",
    "users.rename(columns={'id':'userId', 'url':'profileUrl'}, inplace=True)\n",
    "\n",
    "user_id = []\n",
    "for user in raw_tweets['user']:\n",
    "    uid = user['id']\n",
    "    user_id.append(uid)\n",
    "raw_tweets['userId'] = user_id"
   ]
  },
  {
   "cell_type": "code",
   "execution_count": null,
   "metadata": {},
   "outputs": [],
   "source": [
    "cols = ['id', 'retweetCount', 'userId', 'url', 'date', 'renderedContent']\n",
    "tweets = raw_tweets[cols]\n",
    "tweets.rename(columns={'id':'tweetId', 'url':'tweetUrl'}, inplace=True)\n",
    "\n",
    "tweets = pd.DataFrame(tweets)\n",
    "tweets.drop_duplicates(subset=['tweetId'], inplace=True)"
   ]
  },
  {
   "cell_type": "code",
   "execution_count": null,
   "metadata": {},
   "outputs": [],
   "source": [
    "top_tweets = tweets.nlargest(10, 'retweetCount')"
   ]
  },
  {
   "cell_type": "code",
   "execution_count": null,
   "metadata": {},
   "outputs": [],
   "source": [
    "users_tweets = tweets[['tweetId', 'tweetUrl','renderedContent', 'userId']].merge(users[['userId','displayname']], on='userId')\n",
    "top_users = users_tweets.groupby(['displayname']).size().reset_index(name='tweets').sort_values(by='tweets', ascending=False)"
   ]
  },
  {
   "cell_type": "code",
   "execution_count": null,
   "metadata": {},
   "outputs": [],
   "source": [
    "tweets['date'] = tweets['date'].dt.strftime('%m-%d-%Y')"
   ]
  },
  {
   "cell_type": "code",
   "execution_count": null,
   "metadata": {},
   "outputs": [],
   "source": [
    "top_days = tweets.groupby(['date']).size().reset_index(name='tweets').sort_values(by='tweets', ascending=False)"
   ]
  },
  {
   "cell_type": "code",
   "execution_count": null,
   "metadata": {},
   "outputs": [],
   "source": [
    "top_hashtags = tweets.renderedContent.str.extractall(r'(\\#\\w+)')[0].value_counts()\n",
    "top_hashtags.sort_values(ascending=False)"
   ]
  },
  {
   "cell_type": "code",
   "execution_count": null,
   "metadata": {},
   "outputs": [],
   "source": [
    "def show_table(df):\n",
    "  display_html(df.head(10))"
   ]
  },
  {
   "cell_type": "code",
   "execution_count": null,
   "metadata": {},
   "outputs": [],
   "source": [
    "def menu():\n",
    "  print('\\nArchivo cargado')\n",
    "  exit_program = False\n",
    "  while not exit_program:\n",
    "    print(\n",
    "      '''\n",
    "      Elige el número de la función a ejecutar:\n",
    "      [ 1 ] : Top 10 tweets\n",
    "      [ 2 ] : Top 10 users\n",
    "      [ 3 ] : Top 10 days\n",
    "      [ 4 ] : Top 10 hashtags\n",
    "      [ 5 ] : Salir del programa\n",
    "      '''\n",
    "    )\n",
    "    input_correct = False\n",
    "    while not input_correct:\n",
    "      user_input = input('Ingresa un número: ')\n",
    "      try:\n",
    "        value = int(user_input)\n",
    "        if value < 1 or value > 5:\n",
    "          print('Error: Ingresa un número entre 1 y 5')\n",
    "        else:\n",
    "          input_correct = True\n",
    "          if value == 1:\n",
    "            print('\\nTop 10 tweets:')\n",
    "            show_table(top_tweets)\n",
    "          elif value == 2:\n",
    "            print('\\nTop 10 users:')\n",
    "            show_table(top_users)\n",
    "          elif value == 3:\n",
    "            print('\\nTop 10 days:')\n",
    "            show_table(top_days)\n",
    "          elif value == 4:\n",
    "            print('\\nTop 10 hashtags:\\n')\n",
    "            print(top_hashtags.head(10))\n",
    "          elif value == 5:\n",
    "            print('Programa finalizado.')\n",
    "            exit_program = True\n",
    "      except ValueError:\n",
    "        print('Error: Recuerda ingresar un número')\n",
    "        continue"
   ]
  },
  {
   "cell_type": "code",
   "execution_count": null,
   "metadata": {
    "scrolled": true
   },
   "outputs": [],
   "source": [
    "menu()"
   ]
  }
 ],
 "metadata": {
  "interpreter": {
   "hash": "aee8b7b246df8f9039afb4144a1f6fd8d2ca17a180786b69acc140d282b71a49"
  },
  "kernelspec": {
   "display_name": "Python 3",
   "language": "python",
   "name": "python3"
  },
  "language_info": {
   "codemirror_mode": {
    "name": "ipython",
    "version": 3
   },
   "file_extension": ".py",
   "mimetype": "text/x-python",
   "name": "python",
   "nbconvert_exporter": "python",
   "pygments_lexer": "ipython3",
   "version": "3.7.0"
  }
 },
 "nbformat": 4,
 "nbformat_minor": 2
}
